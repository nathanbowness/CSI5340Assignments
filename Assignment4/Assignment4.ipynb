{
 "cells": [
  {
   "cell_type": "markdown",
   "metadata": {},
   "source": [
    "### Load the MNIST and CIFAR10 Datasets\n",
    "- Both datasets will be loaded from the torch.vision python package to make the import easier"
   ]
  },
  {
   "cell_type": "code",
   "execution_count": 14,
   "metadata": {},
   "outputs": [
    {
     "name": "stdout",
     "output_type": "stream",
     "text": [
      "cuda\n"
     ]
    }
   ],
   "source": [
    "# Load the Datasets\n",
    "import torch\n",
    "from torchvision import datasets, transforms\n",
    "import torch.nn as nn\n",
    "import torch.optim as optim\n",
    "from torch.utils.data import DataLoader\n",
    "from torchvision import datasets, transforms\n",
    "from torch.autograd import Variable\n",
    "\n",
    "# Use GPU as the device if possible\n",
    "default_device = torch.device('cuda' if torch.cuda.is_available() else 'cpu')\n",
    "print(default_device)"
   ]
  },
  {
   "cell_type": "code",
   "execution_count": 15,
   "metadata": {},
   "outputs": [],
   "source": [
    "default_batch_size = 64"
   ]
  },
  {
   "cell_type": "code",
   "execution_count": 16,
   "metadata": {},
   "outputs": [],
   "source": [
    "# Load MNIST\n",
    "# MNIST transform to preprocess the data\n",
    "transform_mnist = transforms.Compose([transforms.ToTensor()])\n",
    "# TODO - normalize the training and test datasets\n",
    "\n",
    "# Download and load the training data\n",
    "trainset_mnist = datasets.MNIST('./data/MNIST_data/', download=True, train=True, transform=transform_mnist)\n",
    "trainloader_mnist = torch.utils.data.DataLoader(trainset_mnist, batch_size=default_batch_size, shuffle=True)\n",
    "\n",
    "# Download and load the test data\n",
    "testset_mnist = datasets.MNIST('./data/MNIST_data/', download=True, train=False, transform=transform_mnist)\n",
    "testloader_mnist = torch.utils.data.DataLoader(testset_mnist, batch_size=default_batch_size, shuffle=True)"
   ]
  },
  {
   "cell_type": "code",
   "execution_count": 17,
   "metadata": {},
   "outputs": [
    {
     "name": "stdout",
     "output_type": "stream",
     "text": [
      "Files already downloaded and verified\n",
      "Files already downloaded and verified\n"
     ]
    }
   ],
   "source": [
    "# LOAD CIFAR 10\n",
    "# Cifar transform to preprocess the data\n",
    "transform_cifar = transforms.Compose([transforms.ToTensor()])\n",
    "\n",
    "# Download and load the training data\n",
    "trainset_cifar = datasets.CIFAR10('./data/CIFAR10_data/', download=True, train=True, transform=transform_cifar)\n",
    "trainloader_cifar = torch.utils.data.DataLoader(trainset_cifar, batch_size=default_batch_size, shuffle=True)\n",
    "\n",
    "# Download and load the test data\n",
    "testset_cifar = datasets.CIFAR10('./data/CIFAR10_data/', download=True, train=False, transform=transform_cifar)\n",
    "testloader_cifar = torch.utils.data.DataLoader(testset_cifar, batch_size=default_batch_size, shuffle=True)\n"
   ]
  },
  {
   "cell_type": "code",
   "execution_count": 23,
   "metadata": {},
   "outputs": [],
   "source": [
    "# VAE Model Definition\n",
    "class VAE(nn.Module):\n",
    "    def __init__(self, input_size, hidden_size, latent_size, dropout_rate=0.2):\n",
    "        super(VAE, self).__init__()\n",
    "\n",
    "        # Encoder\n",
    "        self.encoder = nn.Sequential(\n",
    "            nn.Linear(input_size, hidden_size, device=default_device),\n",
    "            nn.ReLU(),\n",
    "            nn.Dropout(dropout_rate),\n",
    "            nn.Linear(hidden_size, hidden_size, device=default_device),\n",
    "            nn.ReLU(),\n",
    "            nn.Dropout(dropout_rate),\n",
    "            nn.Linear(hidden_size, latent_size * 2, device=default_device)  # x2 for mean and variance\n",
    "        )\n",
    "\n",
    "        # Decoder\n",
    "        self.decoder = nn.Sequential(\n",
    "            nn.Linear(latent_size, hidden_size, device=default_device),\n",
    "            nn.ReLU(),\n",
    "            nn.Dropout(dropout_rate),\n",
    "            nn.Linear(hidden_size, hidden_size, device=default_device),\n",
    "            nn.ReLU(),\n",
    "            nn.Dropout(dropout_rate),\n",
    "            nn.Linear(hidden_size, input_size, device=default_device),\n",
    "            nn.Sigmoid()  # Sigmoid activation for pixel values between 0 and 1\n",
    "        )\n",
    "\n",
    "    def reparameterize(self, mu, log_var):\n",
    "        std = torch.exp(0.5 * log_var)\n",
    "        eps = torch.randn_like(std, device=default_device)\n",
    "        return mu + eps * std\n",
    "\n",
    "    def forward(self, x):\n",
    "        # Encode\n",
    "        encoding = self.encoder(x)\n",
    "        mu, log_var = torch.chunk(encoding, 2, dim=1)\n",
    "\n",
    "        # Reparameterization trick\n",
    "        z = self.reparameterize(mu, log_var)\n",
    "\n",
    "        # Decode\n",
    "        reconstruction = self.decoder(z)\n",
    "\n",
    "        return reconstruction, mu, log_var\n"
   ]
  },
  {
   "cell_type": "code",
   "execution_count": 6,
   "metadata": {},
   "outputs": [],
   "source": [
    "# GAN Model Definition"
   ]
  },
  {
   "cell_type": "code",
   "execution_count": 7,
   "metadata": {},
   "outputs": [],
   "source": [
    "# WGAN Model Definition"
   ]
  },
  {
   "cell_type": "markdown",
   "metadata": {},
   "source": [
    "## Train the Models - MNIST\n",
    "Start training the VAE, GAN and WGAN models with the MNIST dataset."
   ]
  },
  {
   "cell_type": "code",
   "execution_count": 24,
   "metadata": {},
   "outputs": [
    {
     "name": "stdout",
     "output_type": "stream",
     "text": [
      "Epoch [1/10], Step [1/938], BCE: 34838.3281, KLD: 20.0837, Loss: 34858.4102\n",
      "Epoch [1/10], Step [501/938], BCE: 11587.1719, KLD: 374.7930, Loss: 11961.9648\n",
      "Epoch [2/10], Step [1/938], BCE: 10342.1455, KLD: 610.9353, Loss: 10953.0811\n",
      "Epoch [2/10], Step [501/938], BCE: 9156.4473, KLD: 785.4516, Loss: 9941.8984\n"
     ]
    }
   ],
   "source": [
    "# MNIST Data Training\n",
    "input_size = 28 * 28 # Size of MNIST images - 784\n",
    "hidden_size = 256 # Hidden size for hidden layer\n",
    "latent_size = 128 # Latent size for latent vector -- trial [2, 64, 128]\n",
    "learning_rate = 0.001 # Learning rate for the optimizer\n",
    "num_epochs = 10 # Number of epochs to train for\n",
    "\n",
    "# Initialize the model\n",
    "vae_model = VAE(input_size, hidden_size, latent_size)\n",
    "\n",
    "# Loss function\n",
    "def loss_function(recon_x, x, mu, log_var):\n",
    "    BCE = nn.functional.binary_cross_entropy(recon_x, x.view(-1, input_size), reduction='sum')\n",
    "\n",
    "    # KL Divergence\n",
    "    KLD = -0.5 * torch.sum(1 + log_var - mu.pow(2) - log_var.exp())\n",
    "    return (BCE, KLD)\n",
    "\n",
    "# Optimizer\n",
    "optimizer = optim.Adam(vae_model.parameters(), lr=learning_rate)\n",
    "\n",
    "# Training loop\n",
    "for epoch in range(num_epochs):\n",
    "    for i, data in enumerate(trainloader_mnist, 0):\n",
    "        inputs, _ = data\n",
    "        inputs = inputs.view(-1, input_size).to(default_device)\n",
    "        inputs = Variable(inputs)\n",
    "\n",
    "        # PyTorch accumulates gradients on subsequent backward passes - so zero the grads\n",
    "        optimizer.zero_grad()\n",
    "\n",
    "        # Forward pass\n",
    "        recon_batch, mu, log_var = vae_model(inputs)\n",
    "\n",
    "        # Binary cross entropy, KL divergence\n",
    "        (BCE, KLD) = loss_function(recon_batch, inputs, mu, log_var)\n",
    "        totalloss = BCE + KLD\n",
    "\n",
    "        # Backward pass\n",
    "        totalloss.backward()\n",
    "\n",
    "        # Update weights\n",
    "        optimizer.step()\n",
    "\n",
    "        if i % 500 == 0:\n",
    "            print('Epoch [{}/{}], Step [{}/{}], BCE: {:.4f}, KLD: {:.4f}, Total Loss: {:.4f}'\n",
    "                  .format(epoch+1, num_epochs, i+1, len(trainloader_mnist), BCE.item(), KLD.item(), totalloss.item()))\n"
   ]
  },
  {
   "cell_type": "markdown",
   "metadata": {},
   "source": [
    "## MNIST Testing Evaluation"
   ]
  },
  {
   "cell_type": "code",
   "execution_count": 22,
   "metadata": {},
   "outputs": [
    {
     "name": "stdout",
     "output_type": "stream",
     "text": [
      "Average Reconstruction Loss on Testing Data: 6782.4796\n"
     ]
    },
    {
     "data": {
      "image/png": "[encoded data removed]",
      "text/plain": [
       "<Figure size 1500x400 with 20 Axes>"
      ]
     },
     "metadata": {},
     "output_type": "display_data"
    }
   ],
   "source": [
    "import matplotlib.pyplot as plt\n",
    "import numpy as np\n",
    "\n",
    "# Evaluate the training dataset on VAE\n",
    "\n",
    "vae_model.eval()\n",
    "\n",
    "# Initialize lists to store original and reconstructed images for testing\n",
    "test_original_images = []\n",
    "test_reconstructed_images = []\n",
    "\n",
    "# Evaluate on the entire testing dataset\n",
    "with torch.no_grad():\n",
    "    for data in testloader_mnist:\n",
    "        inputs, _ = data\n",
    "        inputs = inputs.view(-1, input_size).to(default_device)\n",
    "        \n",
    "        # Forward pass\n",
    "        recon_batch, _, _ = vae_model(inputs)\n",
    "\n",
    "        # Convert to numpy arrays for visualization\n",
    "        test_original_images.append(inputs.cpu().numpy())\n",
    "        test_reconstructed_images.append(recon_batch.cpu().numpy())\n",
    "\n",
    "# Concatenate the batches\n",
    "test_original_images = np.concatenate(test_original_images, axis=0)\n",
    "test_reconstructed_images = np.concatenate(test_reconstructed_images, axis=0)\n",
    "\n",
    "# Calculate the average reconstruction loss on the testing dataset\n",
    "test_average_loss = 0.0\n",
    "test_num_batches = 0\n",
    "\n",
    "with torch.no_grad():\n",
    "    for data in testloader_mnist:\n",
    "        inputs, _ = data\n",
    "        inputs = inputs.view(-1, input_size).to(default_device)\n",
    "\n",
    "        # Forward pass\n",
    "        recon_batch, mu, log_var = vae_model(inputs)\n",
    "\n",
    "        # Compute loss\n",
    "        (BCE, KLD) = loss_function(recon_batch, inputs, mu, log_var)\n",
    "        loss = BCE + KLD\n",
    "        test_average_loss += loss.item()\n",
    "        test_num_batches += 1\n",
    "\n",
    "test_average_loss /= test_num_batches\n",
    "print(f'Average Reconstruction Loss on Testing Data: {test_average_loss:.4f}')\n",
    "\n",
    "# Visualize some original and reconstructed images for testing\n",
    "n_test_samples = 10\n",
    "test_indices = np.random.choice(len(test_original_images), n_test_samples, replace=False)\n",
    "\n",
    "fig, axes = plt.subplots(2, n_test_samples, figsize=(15, 4))\n",
    "\n",
    "for i, index in enumerate(test_indices):\n",
    "    axes[0, i].imshow(test_original_images[index].reshape(28, 28), cmap='gray')\n",
    "    axes[0, i].axis('off')\n",
    "    axes[0, i].set_title('Original')\n",
    "\n",
    "    axes[1, i].imshow(test_reconstructed_images[index].reshape(28, 28), cmap='gray')\n",
    "    axes[1, i].axis('off')\n",
    "    axes[1, i].set_title('Reconstructed')\n",
    "\n",
    "plt.show()\n"
   ]
  }
 ],
 "metadata": {
  "kernelspec": {
   "display_name": "Python 3",
   "language": "python",
   "name": "python3"
  },
  "language_info": {
   "codemirror_mode": {
    "name": "ipython",
    "version": 3
   },
   "file_extension": ".py",
   "mimetype": "text/x-python",
   "name": "python",
   "nbconvert_exporter": "python",
   "pygments_lexer": "ipython3",
   "version": "3.11.6"
  }
 },
 "nbformat": 4,
 "nbformat_minor": 2
}
