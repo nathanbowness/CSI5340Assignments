{
  "cells": [
    {
      "cell_type": "code",
      "execution_count": 14,
      "metadata": {},
      "outputs": [
        {
          "name": "stdout",
          "output_type": "stream",
          "text": [
            "True\n"
          ]
        }
      ],
      "source": [
        "import torch\n",
        "\n",
        "print(torch.cuda.is_available())"
      ]
    },
    {
      "cell_type": "code",
      "execution_count": 2,
      "metadata": {
        "id": "R2BmAK-BoDej"
      },
      "outputs": [],
      "source": [
        "import os\n",
        "import urllib.request\n",
        "import zipfile\n",
        "import tarfile\n",
        "\n",
        "maximum_words = 500\n",
        "\n",
        "def download_and_extract_if_not_exist(url, extract_path, zip_file_name, zip_file_contents_file_name):\n",
        "\n",
        "    # If any of the files already exist, skip the download - it's already been done and extracted\n",
        "    path = os.path.join(extract_path, zip_file_contents_file_name)\n",
        "    if os.path.exists(path):\n",
        "        print(\"Files already exist. Skipping download.\")\n",
        "        return\n",
        "\n",
        "    # Check if the zip file already exists, if it does, skip the download to save time\n",
        "    zip_file_path = os.path.join(extract_path, zip_file_name)\n",
        "    if not os.path.exists(zip_file_path):\n",
        "        print(\"Downloading zip file...\")\n",
        "        if not os.path.exists(extract_path):\n",
        "            os.makedirs(extract_path)\n",
        "        # Download the zip file\n",
        "        zip_file_path, _ = urllib.request.urlretrieve(url, zip_file_path)\n",
        "    else:\n",
        "        print(\"Zip file already exists. Skipping download.\")\n",
        "\n",
        "    # Extract the contents of the zip file to the given directory based on the file extension\n",
        "    if zip_file_path.endswith(\".zip\"):\n",
        "        with zipfile.ZipFile(zip_file_path, 'r') as zip_ref:\n",
        "            zip_ref.extractall(extract_path)\n",
        "    elif zip_file_path.endswith(\".tar.gz\") or zip_file_path.endswith(\".tgz\"):\n",
        "        with tarfile.open(zip_file_path, 'r:gz') as tar_ref:\n",
        "            tar_ref.extractall(extract_path)\n",
        "\n",
        "    # Close and remove the zip file to free up space\n",
        "    os.remove(zip_file_path)\n",
        "    print(f\"Files extracted to: {extract_path}\")\n"
      ]
    },
    {
      "cell_type": "code",
      "execution_count": 3,
      "metadata": {
        "colab": {
          "base_uri": "https://localhost:8080/"
        },
        "id": "iJjUcRSHWNkb",
        "outputId": "2e82ea52-8746-4b73-8400-aa98ac627089"
      },
      "outputs": [
        {
          "name": "stdout",
          "output_type": "stream",
          "text": [
            "Files already exist. Skipping download.\n"
          ]
        }
      ],
      "source": [
        "# Download the word embeddings into the following folder:\n",
        "folder_to_download = \"./models\"\n",
        "\n",
        "# 6 Billion token model\n",
        "embedding_url = \"https://nlp.stanford.edu/data/glove.6B.zip\"\n",
        "file_name_to_download = \"glove.6B.zip\"\n",
        "\n",
        "# 42 Billion token model\n",
        "# embedding_url = \"https://nlp.stanford.edu/data/wordvecs/glove.42B.300d.zip\"\n",
        "# file_name_to_download = \"glove.42B.300d.zip\"\n",
        "\n",
        "# Download and extract the embedding file, then set a variable with the path to the embedding file\n",
        "download_and_extract_if_not_exist(embedding_url, folder_to_download, file_name_to_download, \"glove.6B.50d.txt\")\n",
        "word_embedding_file_path = os.path.join(folder_to_download, \"glove.6B.50d.txt\")"
      ]
    },
    {
      "cell_type": "code",
      "execution_count": 4,
      "metadata": {
        "colab": {
          "base_uri": "https://localhost:8080/"
        },
        "id": "1lO3QuMLWPox",
        "outputId": "c87e78b2-d795-4fdc-82eb-11d59d6862f5"
      },
      "outputs": [
        {
          "name": "stdout",
          "output_type": "stream",
          "text": [
            "Files already exist. Skipping download.\n"
          ]
        }
      ],
      "source": [
        "# Download the dataset into the following folder:\n",
        "folder_to_download = \"./dataset\"\n",
        "\n",
        "# 6 Billion token model\n",
        "dataset_url = \"https://ai.stanford.edu/~amaas/data/sentiment/aclImdb_v1.tar.gz\"\n",
        "file_name_to_download = \"aclImdb_v1.tar.gz\"\n",
        "\n",
        "# Download and extract, then set the path to the dataset\n",
        "download_and_extract_if_not_exist(dataset_url, folder_to_download, file_name_to_download, \"aclImdb/imdb.vocab\")\n",
        "dataset_folder= os.path.join(folder_to_download, \"aclImdb\")"
      ]
    },
    {
      "cell_type": "code",
      "execution_count": 5,
      "metadata": {
        "id": "rRJnSMuKWK_H"
      },
      "outputs": [],
      "source": [
        "dataset_folder= os.path.join(folder_to_download, \"aclImdb\")\n",
        "def read_imdb_data_from_folder(imdb_reviews_folder):\n",
        "    texts = []\n",
        "    labels = []\n",
        "    review_folders = [\"pos\", \"neg\"] # there are 2 folders in each dataset folder: pos and neg\n",
        "    for connotation_dir in review_folders:\n",
        "        review_dir = os.path.join(imdb_reviews_folder, connotation_dir)\n",
        "        for filename in os.listdir(review_dir):\n",
        "            with open(os.path.join(review_dir, filename), \"r\", encoding=\"utf8\") as f:\n",
        "                texts.append(f.read())\n",
        "            labels.append(0 if connotation_dir == \"neg\" else 1)\n",
        "    return texts, labels\n",
        "\n",
        "def get_negative_positive_from_label(label):\n",
        "    return \"negative\" if label == 0 else \"positive\""
      ]
    },
    {
      "cell_type": "code",
      "execution_count": 6,
      "metadata": {
        "id": "D6DPi9ScWTFr"
      },
      "outputs": [],
      "source": [
        "# Load the IMDB Movie Review dataset from the downloaded folder\n",
        "test_texts, test_labels = read_imdb_data_from_folder(os.path.join(dataset_folder, \"test\"))\n",
        "train_texts, train_labels = read_imdb_data_from_folder(os.path.join(dataset_folder, \"train\"))"
      ]
    },
    {
      "cell_type": "code",
      "execution_count": 7,
      "metadata": {
        "colab": {
          "base_uri": "https://localhost:8080/"
        },
        "id": "Zi5wSaN7WVNM",
        "outputId": "7bc06df9-f847-4646-ee18-15db6e9fdf2d"
      },
      "outputs": [
        {
          "name": "stdout",
          "output_type": "stream",
          "text": [
            "Review #0\n",
            "Label: 0\n",
            "Sentiment: negative\n",
            "Text: Christ, oh Christ... One watches stunned, incredulous, and possibly deranged, as this tawdry exercise in mirthless smut unfolds with all the wit and dexterity of a palsied Galapagos tortoise. Can such things be? Does this movie actually exist, or was I the unwitting guinea pig of some shadowy international drugs company, sipping my coffee unaware that it had been spiked with a dangerous hallucinogen? I've seen a lot of films, and a lot of bad films, but nothing prepared me for this; by the end of it I was a gibbering, snivelling wreck, tearing at the carpet with my teeth like a dog, clawing at the walls, howling till my lungs were sore. I pleaded desperately, frenziedly for mercy (to whom this appeal was made, I don't know), and longed with burning desire for the soothing balm of Ozu Yasujiro. Sweet Weeping Jesus, the memories... sometimes they come back to me. When I'm at my most vulnerable, when I'm least able to handle them. I shudder, I break down in tears, I bite my fingernails till my hands are slathered with blood, but I can't quite banish the awful flashbacks from my mind. I'm haunted. I'm damaged. I'm a shell of a man.<br /><br />The other user comments here suggest that I am not alone in having undergone this terrifying experience, which can only mean one of two things: a) the film does, in fact, exist, or b) I am but one victim among legions of an international conspiracy of truly sinister proportions. What is quite mind-boggling is that some people seem to have enjoyed their ordeal, or at least have not been left traumatised by it. Perhaps they're part of the operation. God damn them, the maniacs! God damn them all to Hell!!!!!!\n",
            "\n",
            "Review #1\n",
            "Label: 0\n",
            "Sentiment: negative\n",
            "Text: This movie was like \"The Disney Channel after Dark.\" Take out the \"aren't we naughty\" language and themes and you are left with dialogue and plot devices that insult the intelligence of anyone who doesn't describe \"Saved by the Bell\" as quality television. The dialogue so laughably cliched and knowingly dirty, one might think the screenplay was the product of locking Aaron Spelling and Joe Eszterhas in a room with orders to produce an amalgam of every bad script each had ever had a hand in creating. If that was Roger Kumble's intention, mission accomplished.\n",
            "\n",
            "Review #2\n",
            "Label: 0\n",
            "Sentiment: negative\n",
            "Text: I was willing to go with the original _Cruel Intentions._ It went along with the plot and stayed true to the characters of one of my favorite stories. However, this movie was, in my opinion, a crummy rehash with essentially the same story line and no clear character choices. I didn't honestly care what happened to any of them. The strongest part of the original story (Les Liasons, not CI) is the characters and their interactions, not the events themselves. I wasn't clear until I read the IMDB that this movie was meant to be a prequel, especially since the title includes a number \"2,\" I expected a sequel, but then determined that it must be a companion piece. Over all, I must say that this movie read, to me at least, like a soft porn version of Les Liasons. I was not impressed.\n",
            "\n",
            "Review #3\n",
            "Label: 0\n",
            "Sentiment: negative\n",
            "Text: Alright normally i am not as harsh on sequels especially if the first film is done well and was ultimately a good movie. As for 1999 i feel that one of the top five films was Cruel Intentions. It had everything a great movie should have except for an original story, being adapted from a novel it was still damn good. On to Cruel Intentions 2 which was supposed to actually just be the opener for a series based on the film called manchester prep. Which must not have happened. Actually after seeing this trifle of a film i can understand. Before the thing started i was like at least the writer and director Roger Kumble did this one also. Well 1 minute into this movie i was disappointed. It starts off with a rehash of the opening of the original with a different twist sebastian instead of putting the shrinks daughter's naked picture on the net he puts the schools principals wife in the school directory naked. This would have been alright if the lady was not like 50. And basically the rest of the movie is a wannabe carbon copy of the original. Which i understand the if there is nothing wrong with it leave it the way it was. But you can not do that with a movie. This actually being a prequel i gave it a chance just to see how they turned out like they did in part 1. But with Sebastian being more or less just a prankster and Kathryn being a herself and turning sebastian into the sexual predator he was in the real story, this movie had no foundation to it. Whoever did the casting on this thing was way off. They could have at least tried to get people who looked like the original cast but no, they just hired a bunch of not even really good looking actors. I am using this term although i dont know why. They for sure didnt do any in this movie.<br /><br />All this movie is a bunch of one liners that dont even match the wit that the original had, well some of them did but that was just because they were from part 1. Another bad point was in part one you could understand the need for them to act out for attention because there was no involvement from teir parents this one had them in it and they were poorly used, as if to show why the kids are like this. It didnt work though. The best thing though about the original was that the cast had chemistry they took you into this world. The on screen tension that was there made the film what it was. This thing Really ruins the experience of the first one stay way from this.\n",
            "\n",
            "Review #4\n",
            "Label: 0\n",
            "Sentiment: negative\n",
            "Text: <br /><br />When I first started watching this movie last night on Cinemax, I was shocked that it had been made. Cruel Intentions, in my opinion, was one of the best teen-oriented films made in years. This prequel had certain things incongruent with the original. (Sebastian's father married into wealth, then why does he have a rich Aunt on long island?)<br /><br />Then I found out today that it was not really intended to be a new movie, but rather a television series, Manchester Prep. After hearing that, it made sense to me that it wasn't the same as the movie, just as Buffy the Vampire Slayer is different in TV form. <br /><br />I think that Roger Kumble most likely added the ending that this movie had, AFTER the series wasn't picked up by Fox. It just seems like something that would happen too fast (Sebastian becoming the male version of Katharyn) and I just don't know where they would go with the next episode, since it wouldn't be leading to the 1999 Film (Which the newer ending is directed right towards.)<br /><br />One thing I didn't like was that it suggested Sebastian and his father had married into the wealth, which isn't typically looked good upon in this area of new york, and sine Katharyn's mother was just an adult version of her, it didn't seem like something a woman in her position would do, marry a man not of her social class. <br /><br />As a prequel this is fairly lame. But I would have been interested to see where this had gone as a series.\n",
            "\n"
          ]
        }
      ],
      "source": [
        "for i in range(5):\n",
        "    print(f\"Review #{i}\")\n",
        "    print(f\"Label: {train_labels[i+24000]}\")\n",
        "    print(f\"Sentiment: {get_negative_positive_from_label(train_labels[i+24000])}\")\n",
        "    print(f\"Text: {train_texts[i+24000]}\")\n",
        "    print()"
      ]
    },
    {
      "cell_type": "code",
      "execution_count": 36,
      "metadata": {
        "id": "wGhjt9ymcm_f"
      },
      "outputs": [
        {
          "name": "stdout",
          "output_type": "stream",
          "text": [
            "cuda\n"
          ]
        }
      ],
      "source": [
        "import torch\n",
        "\n",
        "# Hyperparameters\n",
        "state_dimensions = [20, 50, 100, 200, 500]\n",
        "embedding_dim = 50  # You can choose the dimension of the word embeddings -- Note: this needs to match the model I pick from Glove!!\n",
        "max_len = 170  # You can adjust this based on the average length of reviews\n",
        "\n",
        "device = torch.device('cuda' if torch.cuda.is_available() else 'cpu')\n",
        "print(device)"
      ]
    },
    {
      "cell_type": "code",
      "execution_count": 24,
      "metadata": {
        "id": "hwRxmLarQuhr"
      },
      "outputs": [],
      "source": [
        "# If the texts are longer than 500 words, shorten them, so they have a max of 500 words.\n",
        "def truncate_nested_arrays(array, max_length):\n",
        "    new_array = [None] * len(array)\n",
        "    for i in range(len(array)):\n",
        "        new_array[i] = array[i][:max_length]\n",
        "    return new_array\n"
      ]
    },
    {
      "cell_type": "code",
      "execution_count": 25,
      "metadata": {
        "id": "O4YNgFvCcMyI"
      },
      "outputs": [],
      "source": [
        "import torch.nn as nn\n",
        "import torch.optim as optim\n",
        "from torch.utils.data import DataLoader, TensorDataset\n",
        "import numpy as np\n",
        "import torchtext\n",
        "\n",
        "# Tokenize and pad sequences\n",
        "tokenizer = torchtext.data.utils.get_tokenizer('basic_english')\n",
        "train_texts_tokenized = [tokenizer(review) for review in train_texts]\n",
        "test_texts_tokenized = [tokenizer(review) for review in test_texts]\n",
        "\n",
        "train_texts_tokenized = truncate_nested_arrays(train_texts_tokenized, max_len)\n",
        "test_texts_tokenized = truncate_nested_arrays(test_texts_tokenized, max_len)\n"
      ]
    },
    {
      "cell_type": "code",
      "execution_count": 26,
      "metadata": {
        "colab": {
          "base_uri": "https://localhost:8080/"
        },
        "id": "UHvwnBJJ3hLT",
        "outputId": "ee5baa4e-cbef-40da-e1f8-324ff3b1a348"
      },
      "outputs": [
        {
          "name": "stdout",
          "output_type": "stream",
          "text": [
            "Torch test: 152.4964\n",
            "Torch training: 152.87782\n"
          ]
        }
      ],
      "source": [
        "# Calculate the total length and count of nested arrays\n",
        "total_length = 0\n",
        "count = 0\n",
        "\n",
        "for nested_array in test_texts_tokenized:\n",
        "    total_length += len(nested_array)\n",
        "    count += 1\n",
        "\n",
        "# Calculate the average length\n",
        "average_length = total_length / count\n",
        "print(f\"Torch test: {average_length}\")\n",
        "\n",
        "for nested_array in train_texts_tokenized:\n",
        "    total_length += len(nested_array)\n",
        "    count += 1\n",
        "\n",
        "# Calculate the average length\n",
        "average_length = total_length / count\n",
        "print(f\"Torch training: {average_length}\")"
      ]
    },
    {
      "cell_type": "code",
      "execution_count": 27,
      "metadata": {
        "id": "wzW3HQYEV68P"
      },
      "outputs": [],
      "source": [
        "# Build vocabulary\n",
        "# import os\n",
        "# os.environ['CUDA_LAUNCH_BLOCKING'] = '1'\n",
        "\n",
        "vocab = torchtext.vocab.build_vocab_from_iterator(train_texts_tokenized + test_texts_tokenized) # Note: This probably shouldn't include the test_texts, but deal with this later\n",
        "\n",
        "train_sequences = [torch.tensor([vocab[token] for token in review], dtype=torch.long, device=device)for review in train_texts_tokenized]\n",
        "test_sequences = [torch.tensor([vocab[token]for token in review], dtype=torch.long, device=device) for review in test_texts_tokenized] # Error thrown here since the test tokens may not exist in the vocabulary\n",
        "\n",
        "train_padded = nn.utils.rnn.pad_sequence(train_sequences, batch_first=True, padding_value=0)\n",
        "test_padded = nn.utils.rnn.pad_sequence(test_sequences, batch_first=True, padding_value=0)"
      ]
    },
    {
      "cell_type": "code",
      "execution_count": 28,
      "metadata": {
        "colab": {
          "base_uri": "https://localhost:8080/"
        },
        "id": "Im_5zhWlCet2",
        "outputId": "214cbdc7-f658-4515-ff6f-b0480e4c24b9"
      },
      "outputs": [
        {
          "name": "stdout",
          "output_type": "stream",
          "text": [
            "9\n",
            "232\n",
            "['bromwell', 'high', 'is', 'a', 'cartoon', 'comedy', '.', 'it', 'ran', 'at', 'the', 'same', 'time', 'as', 'some', 'other', 'programs', 'about', 'school', 'life', ',', 'such', 'as', 'teachers', '.', 'my', '35', 'years', 'in', 'the', 'teaching', 'profession', 'lead', 'me', 'to', 'believe', 'that', 'bromwell', 'high', \"'\", 's', 'satire', 'is', 'much', 'closer', 'to', 'reality', 'than', 'is', 'teachers', '.', 'the', 'scramble', 'to', 'survive', 'financially', ',', 'the', 'insightful', 'students', 'who', 'can', 'see', 'right', 'through', 'their', 'pathetic', 'teachers', \"'\", 'pomp', ',', 'the', 'pettiness', 'of', 'the', 'whole', 'situation', ',', 'all', 'remind', 'me', 'of', 'the', 'schools', 'i', 'knew', 'and', 'their', 'students', '.', 'when', 'i', 'saw', 'the', 'episode', 'in', 'which', 'a', 'student', 'repeatedly', 'tried', 'to', 'burn', 'down', 'the', 'school', ',', 'i', 'immediately', 'recalled', '.', '.', '.', '.', '.', '.', '.', '.', '.', 'at', '.', '.', '.', '.', '.', '.', '.', '.', '.', '.', 'high', '.', 'a', 'classic', 'line', 'inspector', 'i', \"'\", 'm', 'here', 'to', 'sack', 'one', 'of', 'your', 'teachers', '.', 'student', 'welcome', 'to', 'bromwell', 'high', '.', 'i', 'expect', 'that', 'many', 'adults', 'of', 'my', 'age', 'think', 'that', 'bromwell', 'high', 'is', 'far', 'fetched', '.', 'what']\n",
            "170\n",
            "170\n"
          ]
        }
      ],
      "source": [
        "print(vocab[\"i\"])\n",
        "print(vocab[\"found\"])\n",
        "\n",
        "print(train_texts_tokenized[0])\n",
        "\n",
        "print(len(train_padded[4]))\n",
        "\n",
        "print(len(test_padded[5]))"
      ]
    },
    {
      "cell_type": "code",
      "execution_count": 29,
      "metadata": {
        "id": "5KQicpEXcvyq"
      },
      "outputs": [],
      "source": [
        "# Download GloVe word embeddings\n",
        "# You can download from https://nlp.stanford.edu/projects/glove\n",
        "# I'll assume you've downloaded the 100-dimensional GloVe embeddings\n",
        "\n",
        "glove_file = word_embedding_file_path\n",
        "embedding_index = {}\n",
        "with open(glove_file, encoding=\"utf-8\") as f:\n",
        "    for line in f:\n",
        "        values = line.split()\n",
        "        word = values[0]\n",
        "        coefs = np.asarray(values[1:], dtype='float32')\n",
        "        embedding_index[word] = coefs"
      ]
    },
    {
      "cell_type": "code",
      "execution_count": 30,
      "metadata": {
        "colab": {
          "base_uri": "https://localhost:8080/"
        },
        "id": "I-8KC9UNDqRs",
        "outputId": "7f0d4ff1-5e7f-4ec6-de47-379c3100be52"
      },
      "outputs": [
        {
          "name": "stdout",
          "output_type": "stream",
          "text": [
            "[ 0.0034133 -0.14757    1.2649    -0.21882    0.31136    0.094664\n",
            "  0.21661   -0.56447    0.22246    0.090778  -0.93579   -0.76006\n",
            " -0.066726  -0.16403   -0.016907  -1.2052    -0.31426    0.25058\n",
            " -0.78974    0.33977   -0.086043   0.10269    0.71572   -0.26135\n",
            " -0.37595    0.23748    0.62505   -0.43565   -0.39561   -0.23105\n",
            "  1.3102     0.22167    0.64756    0.86903    0.85008   -0.32513\n",
            "  0.84591   -0.12774    0.11723    0.41916   -0.54855   -0.45053\n",
            "  1.1328     0.30328   -1.0642     0.97721   -0.75989    0.18138\n",
            "  0.22958   -0.31125  ]\n",
            "None\n"
          ]
        }
      ],
      "source": [
        "print(embedding_index.get(\"123\"))\n",
        "print(embedding_index.get(\"volptuous\"))"
      ]
    },
    {
      "cell_type": "code",
      "execution_count": 31,
      "metadata": {
        "id": "cYMoQfjycz9R"
      },
      "outputs": [],
      "source": [
        "# Create embedding matrix\n",
        "embedding_matrix = np.zeros((len(vocab), embedding_dim))\n",
        "for word, i in vocab.get_stoi().items():\n",
        "    # print(word, i)\n",
        "    embedding_vector = embedding_index.get(word)\n",
        "    # print(embedding_vector)\n",
        "    if embedding_vector is not None:\n",
        "        embedding_matrix[i] = embedding_vector\n",
        "\n",
        "embedding_matrix_tensor = torch.tensor(embedding_matrix, device=device)"
      ]
    },
    {
      "cell_type": "code",
      "execution_count": 39,
      "metadata": {
        "id": "USXa8-8EmgbR"
      },
      "outputs": [],
      "source": [
        "num_epochs = 5\n",
        "\n",
        "# Build model\n",
        "class LSTMTextClassifier(nn.Module):\n",
        "    def __init__(self, embedding_dim, state_dim):\n",
        "        super(LSTMTextClassifier, self).__init__()\n",
        "        self.embedding = nn.Embedding.from_pretrained(embedding_matrix_tensor, freeze=True)\n",
        "        self.rnn = nn.LSTM(input_size=embedding_dim, hidden_size=state_dim, batch_first=True, device=device)\n",
        "        self.fc = nn.Linear(state_dim, 1)\n",
        "        self.sigmoid = nn.Sigmoid()\n",
        "\n",
        "    def forward(self, x):\n",
        "        x = x.long()\n",
        "        x = self.embedding(x)\n",
        "        x = x.float()\n",
        "        output, _ = self.rnn(x)\n",
        "        output = output[:, -1, :]\n",
        "        output = self.fc(output)\n",
        "        output = self.sigmoid(output)\n",
        "        return output\n",
        "\n",
        "\n",
        "print_things = False\n",
        "\n",
        "# Build model\n",
        "class RNNTextClassifier(nn.Module):\n",
        "    def __init__(self, embedding_dim, state_dim):\n",
        "        super(RNNTextClassifier, self).__init__()\n",
        "        self.embedding = nn.Embedding.from_pretrained(embedding_matrix_tensor, freeze=True)\n",
        "        self.rnn = nn.RNN(embedding_dim, state_dim, batch_first=True, device=device)\n",
        "        self.fc = nn.Linear(state_dim, 1)\n",
        "        self.sigmoid = nn.Sigmoid()\n",
        "\n",
        "    def forward(self, x):\n",
        "        \"\"\"\n",
        "        Args:\n",
        "            x: Input tensor containing a sequence of tokens\n",
        "        Return: The output of the current RNN, a list out tensors (a list of binary classifications)\n",
        "        \"\"\"\n",
        "        x = x.long()\n",
        "        if print_things: print(f\"Passed in: {x}\")\n",
        "        vector_embedding = self.embedding(x).float()\n",
        "        if print_things: print(f\"Embedding lookup float: {vector_embedding}\")\n",
        "        rnn_output, _ = self.rnn(vector_embedding)\n",
        "\n",
        "        if print_things: print(f\"Embedding lookup float: {rnn_output}\")\n",
        "        # Option 1: Pooling (e.g., max pooling)\n",
        "        max_pooling_output, _ = torch.max(rnn_output, 1)\n",
        "        output = self.fc(max_pooling_output)\n",
        "        output = self.sigmoid(output)\n",
        "        if print_things: print(f\"Model output: {output}\")\n",
        "        return output\n",
        "\n",
        "def model_training_loop(model, criterion, optimizer, training_data_loader):\n",
        "\n",
        "    training_loop_print = False\n",
        "\n",
        "    loss = None\n",
        "    # Training loop\n",
        "    for epoch in range(num_epochs):\n",
        "        model.train()\n",
        "        for batch in training_data_loader:\n",
        "            inputs, labels = batch[0], batch[1]\n",
        "            inputs, labels = inputs.to(device), labels.to(device)\n",
        "            # if training_loop_print: print(f\"Training Inputs: {inputs}\")\n",
        "            if training_loop_print: print(f\"Training Label: {labels}\")\n",
        "            optimizer.zero_grad()\n",
        "            outputs = model(inputs)\n",
        "            if training_loop_print: print(f\"Training Output: {outputs}\")\n",
        "            labels = labels.unsqueeze(1)\n",
        "            loss = criterion(outputs, labels)\n",
        "            if training_loop_print: print(f\"Training Loss: {loss}\")\n",
        "            if training_loop_print: print(f\"----\")\n",
        "            loss.backward()\n",
        "            optimizer.step()\n",
        "\n",
        "def evaluation_loop(model, test_loader) -> float:\n",
        "    # Evaluation\n",
        "    model.eval()\n",
        "\n",
        "    print_test_info = False\n",
        "    correct = 0\n",
        "    total = 0\n",
        "    with torch.no_grad():\n",
        "        for inputs, labels in test_loader:\n",
        "            # if print_test_info: print(f\"Input: {inputs}\")\n",
        "            if print_test_info: print(f\"Input Labels: {labels}\")\n",
        "            outputs = model(inputs)\n",
        "            if print_test_info: print(f\"Model Output: {outputs}\")\n",
        "            predicted = (outputs.squeeze() > 0.5).float()\n",
        "            if print_test_info: print(f\"Predicted: {predicted}\")\n",
        "            if print_test_info: print(\"---\")\n",
        "            total += labels.size(0)\n",
        "            correct += (predicted == labels).sum().item()\n",
        "\n",
        "    accuracy = correct / total * 100\n",
        "    return accuracy\n"
      ]
    },
    {
      "cell_type": "code",
      "execution_count": 40,
      "metadata": {
        "colab": {
          "base_uri": "https://localhost:8080/"
        },
        "id": "A3ngI_U3c29N",
        "outputId": "f4411392-bead-4dc0-b97f-eaa39a9f474c"
      },
      "outputs": [
        {
          "name": "stdout",
          "output_type": "stream",
          "text": [
            "Results:\n",
            "| Model | State Dimension | Accuracy | Max Words |\n",
            "|-------|-----------------|----------| --------- |\n",
            "| RNN | 20 | 80.1360% | 170\n",
            "| RNN | 50 | 79.4720% | 170\n",
            "| RNN | 100 | 82.0360% | 170\n",
            "| RNN | 200 | 82.7840% | 170\n",
            "| RNN | 500 | 82.4000% | 170\n"
          ]
        }
      ],
      "source": [
        "batch_size_training = 64\n",
        "batch_size_testing = 64\n",
        "learning_rate = 0.001\n",
        "\n",
        "# Model training loop\n",
        "results_rnn = []\n",
        "# Convert padded to torch.float32\n",
        "train_padded = train_padded.float()\n",
        "test_padded = test_padded.float()\n",
        "\n",
        "train_label_tensor = torch.tensor(train_labels, dtype=torch.float32, device=device)\n",
        "test_label_tensor = torch.tensor(test_labels, dtype=torch.float32, device=device)\n",
        "\n",
        "# Convert to tensor dataset\n",
        "train_dataset = TensorDataset(train_padded, train_label_tensor)\n",
        "test_dataset = TensorDataset(test_padded, test_label_tensor)\n",
        "\n",
        "# Converty the tensor datasets into a dataloader\n",
        "train_loader = DataLoader(train_dataset, batch_size=batch_size_training, shuffle=True)\n",
        "test_loader = DataLoader(test_dataset, batch_size=batch_size_testing, shuffle=True)\n",
        "\n",
        "\n",
        "for state_dim in state_dimensions:\n",
        "    for model_type in [\"RNN\"]: #, \"LSTM\"]:\n",
        "\n",
        "        model = None\n",
        "        if model_type == \"RNN\":\n",
        "          model = RNNTextClassifier(embedding_dim, state_dim).to(device)\n",
        "        elif model_type == \"LSTM\":\n",
        "          model = LSTMTextClassifier(embedding_dim, state_dim).to(device)\n",
        "\n",
        "        # Loss and optimizer\n",
        "        criterion = nn.BCELoss() # Different criterion commonly used for classification tasks\n",
        "        optimizer = optim.Adam(model.parameters(), lr=learning_rate)\n",
        "\n",
        "        model_training_loop(model, criterion, optimizer, train_loader)\n",
        "        accuracy = evaluation_loop(model, test_loader)\n",
        "        results_rnn.append((model_type, state_dim, accuracy))\n",
        "\n",
        "# Display results\n",
        "print(\"Results:\")\n",
        "print(\"| Model | State Dimension | Accuracy | Max Words |\")\n",
        "print(\"|-------|-----------------|----------| --------- |\")\n",
        "for result in results_rnn:\n",
        "    print(f\"| {result[0]} | {result[1]} | {result[2]:.4f}% | {max_len}\")"
      ]
    },
    {
      "cell_type": "markdown",
      "metadata": {
        "id": "S5TYkgyC1Ac9"
      },
      "source": [
        "## LSTM Hyperparameter Evaluation"
      ]
    },
    {
      "cell_type": "code",
      "execution_count": 35,
      "metadata": {
        "colab": {
          "base_uri": "https://localhost:8080/"
        },
        "id": "pMgX3uw008e4",
        "outputId": "2fdca184-4dcd-4083-b0df-3ac7e18118f1"
      },
      "outputs": [
        {
          "name": "stdout",
          "output_type": "stream",
          "text": [
            "tensor(0.6732, device='cuda:0', grad_fn=<BinaryCrossEntropyBackward0>)\n",
            "tensor(0.7005, device='cuda:0', grad_fn=<BinaryCrossEntropyBackward0>)\n",
            "tensor(0.6678, device='cuda:0', grad_fn=<BinaryCrossEntropyBackward0>)\n",
            "tensor(0.6604, device='cuda:0', grad_fn=<BinaryCrossEntropyBackward0>)\n",
            "tensor(0.7093, device='cuda:0', grad_fn=<BinaryCrossEntropyBackward0>)\n",
            "tensor(0.6942, device='cuda:0', grad_fn=<BinaryCrossEntropyBackward0>)\n",
            "tensor(0.6911, device='cuda:0', grad_fn=<BinaryCrossEntropyBackward0>)\n",
            "tensor(0.6931, device='cuda:0', grad_fn=<BinaryCrossEntropyBackward0>)\n",
            "tensor(0.6802, device='cuda:0', grad_fn=<BinaryCrossEntropyBackward0>)\n",
            "tensor(0.6909, device='cuda:0', grad_fn=<BinaryCrossEntropyBackward0>)\n",
            "tensor(0.6722, device='cuda:0', grad_fn=<BinaryCrossEntropyBackward0>)\n",
            "tensor(0.6639, device='cuda:0', grad_fn=<BinaryCrossEntropyBackward0>)\n",
            "tensor(0.6809, device='cuda:0', grad_fn=<BinaryCrossEntropyBackward0>)\n",
            "tensor(0.6763, device='cuda:0', grad_fn=<BinaryCrossEntropyBackward0>)\n",
            "tensor(0.4773, device='cuda:0', grad_fn=<BinaryCrossEntropyBackward0>)\n",
            "tensor(0.6915, device='cuda:0', grad_fn=<BinaryCrossEntropyBackward0>)\n",
            "tensor(0.7335, device='cuda:0', grad_fn=<BinaryCrossEntropyBackward0>)\n",
            "tensor(0.6821, device='cuda:0', grad_fn=<BinaryCrossEntropyBackward0>)\n",
            "tensor(0.5024, device='cuda:0', grad_fn=<BinaryCrossEntropyBackward0>)\n",
            "tensor(0.4488, device='cuda:0', grad_fn=<BinaryCrossEntropyBackward0>)\n",
            "tensor(0.6960, device='cuda:0', grad_fn=<BinaryCrossEntropyBackward0>)\n",
            "tensor(0.6871, device='cuda:0', grad_fn=<BinaryCrossEntropyBackward0>)\n",
            "tensor(0.6801, device='cuda:0', grad_fn=<BinaryCrossEntropyBackward0>)\n",
            "tensor(0.5665, device='cuda:0', grad_fn=<BinaryCrossEntropyBackward0>)\n",
            "tensor(0.3098, device='cuda:0', grad_fn=<BinaryCrossEntropyBackward0>)\n",
            "Results:\n",
            "| Model | State Dimension | Accuracy | Max Words |\n",
            "|-------|-----------------|----------| --------- |\n",
            "| RNN | 20 | 64.3360% | 170\n",
            "| RNN | 50 | 55.4160% | 170\n",
            "| RNN | 100 | 74.1720% | 170\n",
            "| RNN | 200 | 75.7360% | 170\n",
            "| RNN | 500 | 79.0840% | 170\n"
          ]
        }
      ],
      "source": [
        "results_lstm = []\n",
        "\n",
        "for state_dim in state_dimensions:\n",
        "\n",
        "    model = LSTMTextClassifier(embedding_dim, state_dim).to(device)\n",
        "    # Loss and optimizer\n",
        "    criterion = nn.BCELoss() # Different criterion commonly used for classification tasks\n",
        "    optimizer = optim.Adam(model.parameters(), lr=learning_rate)\n",
        "\n",
        "    model_training_loop(model, criterion, optimizer, train_loader)\n",
        "    accuracy = evaluation_loop(model, test_loader)\n",
        "    results_lstm.append((model_type, state_dim, accuracy))\n",
        "\n",
        "# Display results\n",
        "print(\"Results:\")\n",
        "print(\"| Model | State Dimension | Accuracy | Max Words |\")\n",
        "print(\"|-------|-----------------|----------| --------- |\")\n",
        "for result in results_lstm:\n",
        "    print(f\"| {result[0]} | {result[1]} | {result[2]:.4f}% | {max_len}\")"
      ]
    },
    {
      "cell_type": "code",
      "execution_count": null,
      "metadata": {
        "id": "1AF7e-zcoZP1"
      },
      "outputs": [],
      "source": []
    }
  ],
  "metadata": {
    "accelerator": "GPU",
    "colab": {
      "gpuType": "T4",
      "provenance": []
    },
    "kernelspec": {
      "display_name": "Python 3",
      "name": "python3"
    },
    "language_info": {
      "codemirror_mode": {
        "name": "ipython",
        "version": 3
      },
      "file_extension": ".py",
      "mimetype": "text/x-python",
      "name": "python",
      "nbconvert_exporter": "python",
      "pygments_lexer": "ipython3",
      "version": "3.11.6"
    }
  },
  "nbformat": 4,
  "nbformat_minor": 0
}
