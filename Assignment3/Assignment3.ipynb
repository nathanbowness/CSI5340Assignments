{
 "cells": [
  {
   "cell_type": "markdown",
   "metadata": {},
   "source": [
    "# Assignment 3\n",
    "## Download Dependencies - Dataset, Pre-Trained Models\n",
    "* Download a pre-trained word embedding vector from https://nlp.stanford.edu/projects/glove to help with the assignment and classification\n",
    "* Download the IMDB movie review dataset from https://ai.stanford.edu/~amaas/data/sentiment/"
   ]
  },
  {
   "cell_type": "code",
   "execution_count": 60,
   "metadata": {},
   "outputs": [],
   "source": [
    "import os\n",
    "import urllib.request\n",
    "import zipfile\n",
    "import tarfile\n",
    "\n",
    "def download_and_extract_if_not_exist(url, extract_path, zip_file_name, zip_file_contents_file_name):\n",
    "\n",
    "    # If any of the files already exist, skip the download - it's already been done and extracted\n",
    "    if os.path.exists(os.path.join(extract_path, zip_file_contents_file_name)):\n",
    "        print(\"Files already exist. Skipping download.\")\n",
    "        return\n",
    "\n",
    "    # Check if the zip file already exists, if it does, skip the download to save time\n",
    "    zip_file_path = os.path.join(extract_path, zip_file_name)\n",
    "    if not os.path.exists(zip_file_path):\n",
    "        print(\"Downloading zip file...\")\n",
    "        if not os.path.exists(extract_path):\n",
    "            os.makedirs(extract_path)\n",
    "        # Download the zip file\n",
    "        zip_file_path, _ = urllib.request.urlretrieve(url, zip_file_path)\n",
    "    else:\n",
    "        print(\"Zip file already exists. Skipping download.\")\n",
    "\n",
    "    # Extract the contents of the zip file to the given directory based on the file extension\n",
    "    if zip_file_path.endswith(\".zip\"):\n",
    "        with zipfile.ZipFile(zip_file_path, 'r') as zip_ref:\n",
    "            zip_ref.extractall(extract_path)\n",
    "    elif zip_file_path.endswith(\".tar.gz\") or zip_file_path.endswith(\".tgz\"):\n",
    "        with tarfile.open(zip_file_path, 'r:gz') as tar_ref:\n",
    "            tar_ref.extractall(extract_path)\n",
    "\n",
    "    # Close and remove the zip file to free up space\n",
    "    os.remove(zip_file_path)\n",
    "    print(f\"Files extracted to: {extract_path}\")"
   ]
  },
  {
   "cell_type": "markdown",
   "metadata": {},
   "source": [
    "### Download Pre-Trained Word Embeddings"
   ]
  },
  {
   "cell_type": "code",
   "execution_count": 61,
   "metadata": {},
   "outputs": [
    {
     "name": "stdout",
     "output_type": "stream",
     "text": [
      "Downloading zip file...\n",
      "Files extracted to: ./models\n"
     ]
    }
   ],
   "source": [
    "# Download the word embeddings into the following folder: \n",
    "folder_to_download = \"./models\"\n",
    "\n",
    "# 6 Billion token model\n",
    "embedding_url = \"https://nlp.stanford.edu/data/glove.6B.zip\"\n",
    "file_name_to_download = \"glove.6B.zip\"\n",
    "\n",
    "# 42 Billion token model\n",
    "# embedding_url = \"https://nlp.stanford.edu/data/wordvecs/glove.42B.300d.zip\"\n",
    "# file_name_to_download = \"glove.42B.300d.zip\"\n",
    "\n",
    "# Download and extract the embedding file, then set a variable with the path to the embedding file\n",
    "download_and_extract_if_not_exist(embedding_url, folder_to_download, file_name_to_download, \"glove.6B.50d.txt\")\n",
    "word_embedding_file_path = os.path.join(folder_to_download, \"glove.6B.50d.txt\")"
   ]
  },
  {
   "cell_type": "markdown",
   "metadata": {},
   "source": [
    "### Download Movie Review Dataset"
   ]
  },
  {
   "cell_type": "code",
   "execution_count": 62,
   "metadata": {},
   "outputs": [
    {
     "name": "stdout",
     "output_type": "stream",
     "text": [
      "Downloading zip file...\n",
      "Files extracted to: ./dataset\n"
     ]
    }
   ],
   "source": [
    "# Download the dataset into the following folder: \n",
    "folder_to_download = \"./dataset\"\n",
    "\n",
    "# 6 Billion token model\n",
    "dataset_url = \"https://ai.stanford.edu/~amaas/data/sentiment/aclImdb_v1.tar.gz\"\n",
    "file_name_to_download = \"aclImdb_v1.tar.gz\"\n",
    "\n",
    "# Download and extract, then set the path to the dataset\n",
    "download_and_extract_if_not_exist(dataset_url, folder_to_download, file_name_to_download, \"glove.6B.50d.txt\")\n",
    "dataset_file_path = os.path.join(folder_to_download, \"glove.6B.50d.txt\")"
   ]
  },
  {
   "cell_type": "code",
   "execution_count": null,
   "metadata": {},
   "outputs": [],
   "source": [
    "import torch\n",
    "import torch.nn as nn\n",
    "import torch.optim as optim\n",
    "from torch.utils.data import DataLoader, TensorDataset"
   ]
  },
  {
   "cell_type": "code",
   "execution_count": null,
   "metadata": {},
   "outputs": [],
   "source": [
    "\n"
   ]
  }
 ],
 "metadata": {
  "kernelspec": {
   "display_name": ".venv",
   "language": "python",
   "name": "python3"
  },
  "language_info": {
   "codemirror_mode": {
    "name": "ipython",
    "version": 3
   },
   "file_extension": ".py",
   "mimetype": "text/x-python",
   "name": "python",
   "nbconvert_exporter": "python",
   "pygments_lexer": "ipython3",
   "version": "3.8.9"
  }
 },
 "nbformat": 4,
 "nbformat_minor": 2
}
