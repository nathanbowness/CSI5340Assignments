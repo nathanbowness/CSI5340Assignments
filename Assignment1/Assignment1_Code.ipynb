{
 "cells": [
  {
   "cell_type": "code",
   "execution_count": 104,
   "metadata": {},
   "outputs": [],
   "source": [
    "import numpy;\n",
    "import math;\n",
    "import torch;\n",
    "\n",
    "def getData(N, variance):\n",
    "    \"\"\"\n",
    "    Generates a dataset {(xi, yi) : i = 1, 2, . . .N} of N (X, Y ) pairs for a given value of N and sigma^2\n",
    "    :return: The generated dataset of (X,Y) pairs\n",
    "    \"\"\"\n",
    "    X = numpy.random.rand(N) # N values between 0 and 1\n",
    "    Z = numpy.random.normal(0, math.sqrt(variance), N) # Zero mean Gaussian random variable, with standard deviation, of length N\n",
    "    Y = numpy.cos(2*math.pi*X) + Z # Y generated from function (1)\n",
    "    print(\"X: \", X)\n",
    "    print(\"Z: \", Z)\n",
    "    print (\"Y: \", Y)\n",
    "\n",
    "    # store the (X,Y) pairs in a N x 2 matrix\n",
    "    x_y_vector = numpy.column_stack((X, Y))\n",
    "    print(\"(X,Y) pairs:\", x_y_vector)\n",
    "    return x_y_vector\n",
    "    \n",
    "def getMSE(y_predicted, y_true): # this is probably wrong\n",
    "    \"\"\"\n",
    "    Get the Mean Square Error (MSE) loss from the predicted dataset, and the true dataset\n",
    "    :return: The Mean Square Error (MSE)\n",
    "    \"\"\"\n",
    "    # MSE calculation using numpy, but will manually calculate below\n",
    "    mse = numpy.mean((y_true - y_predicted)**2) \n",
    "    print (\"Automatic MSE:\", mse)\n",
    "\n",
    "    # Sum all the squared differences of each y_pred, y_true. Then average that over the vector length, N \n",
    "    N = len(y_predicted)\n",
    "    summation_diffs_squared = 0\n",
    "    for y_pred_i, y_true_i in zip(y_predicted, y_true):\n",
    "        squared_diff = (y_pred_i - y_true_i) ** 2\n",
    "        summation_diffs_squared += squared_diff\n",
    "    mse = summation_diffs_squared / N\n",
    "    print (\"Calculated MSE: \", mse)\n",
    "    return mse\n",
    "\n",
    "def fitData(data_set, degree_poly):\n",
    "    \"\"\"\n",
    "    fitData method that estimates the polynomial coefficients by fitting a given data to a degree-d polynomial\n",
    "    :return: estimated_coefficients, Ein (MSE), Eout\n",
    "    \"\"\"\n",
    "\n",
    "    # Random starting coefficents\n",
    "    starting_coeff = torch.tensor(startingRandomCoeffs(degree_poly))\n",
    "    print(\"Random starting coeff:\", starting_coeff)\n",
    "\n",
    "\n",
    "\n",
    "    Ein = 2.345\n",
    "    Eout = 4.567\n",
    "    return starting_coeff, Ein, Eout # this should be changed to the eventual estimated coefficients\n",
    "\n",
    "def startingRandomCoeffs(d):\n",
    "    \"\"\"\n",
    "    Get starting random coefficients, a0, a1, ..., ad, for the polynomial regression function\n",
    "    :return: Randome coefficients for the polynomial based on random values between 0 and 1\n",
    "    \"\"\"\n",
    "    return numpy.random.rand(d)\n",
    "\n",
    "\n",
    "\n",
    "\n",
    "\n",
    " \n",
    "\n"
   ]
  },
  {
   "cell_type": "code",
   "execution_count": 105,
   "metadata": {},
   "outputs": [
    {
     "name": "stdout",
     "output_type": "stream",
     "text": [
      "X:  [0.43075067 0.19334026 0.3203018  0.31244481 0.73846116 0.06456755\n",
      " 0.47468698 0.9753679  0.33797114 0.86466854]\n",
      "Z:  [-0.23648355  0.56390411 -0.75069394 -0.0011535   0.13661878  0.1874676\n",
      "  0.95243844  0.98960109 -0.14310519 -0.39592958]\n",
      "Y:  [-1.14330877  0.91243539 -1.17818828 -0.38351652  0.06418164  1.10629794\n",
      " -0.03494032  1.97764841 -0.66812552  0.26381865]\n",
      "(X,Y) pairs: [[ 0.43075067 -1.14330877]\n",
      " [ 0.19334026  0.91243539]\n",
      " [ 0.3203018  -1.17818828]\n",
      " [ 0.31244481 -0.38351652]\n",
      " [ 0.73846116  0.06418164]\n",
      " [ 0.06456755  1.10629794]\n",
      " [ 0.47468698 -0.03494032]\n",
      " [ 0.9753679   1.97764841]\n",
      " [ 0.33797114 -0.66812552]\n",
      " [ 0.86466854  0.26381865]]\n",
      "Automatic MSE: 3.033333333333333\n",
      "Calculated MSE:  3.033333333333333\n",
      "Random coeff: tensor([0.2384, 0.3363, 0.6733], dtype=torch.float64)\n"
     ]
    },
    {
     "data": {
      "text/plain": [
       "(tensor([0.2384, 0.3363, 0.6733], dtype=torch.float64), 2.345, 4.567)"
      ]
     },
     "execution_count": 105,
     "metadata": {},
     "output_type": "execute_result"
    }
   ],
   "source": [
    "\n",
    "N = 10          # Size of the training dataset\n",
    "variance = 0.2  # Variance, sigma^2\n",
    "degree_d=3      # Degree of the model polynomial\n",
    "\n",
    "\n",
    "data_set = getData(N, variance)\n",
    "MSE = getMSE(numpy.array([2,34,4]), numpy.array([1.9,37,4.3]))\n",
    "\n",
    "fitData(data_set, degree_d)\n",
    "\n"
   ]
  },
  {
   "cell_type": "code",
   "execution_count": 106,
   "metadata": {},
   "outputs": [
    {
     "name": "stdout",
     "output_type": "stream",
     "text": [
      "creating a tensor x:  tensor(3., requires_grad=True)\n",
      "Equation result tensor(27., grad_fn=<MulBackward0>)\n",
      "Derivative: tensor(18.)\n"
     ]
    }
   ],
   "source": [
    "M = 35      # Number of trials\n",
    "\n",
    "# -- playing with pytorch\n",
    "x = torch.tensor(3.0, requires_grad = True)\n",
    "print(\"creating a tensor x: \", x)\n",
    "\n",
    "y = 3*x**2\n",
    "print(\"Equation result\", y)\n",
    "y.backward()\n",
    "print(\"Derivative:\", x.grad)\n",
    "\n",
    "\n",
    "\n"
   ]
  },
  {
   "attachments": {},
   "cell_type": "markdown",
   "metadata": {},
   "source": [
    "\n",
    "\n",
    "d\n",
    "\n",
    "\n",
    "\n",
    "d\n",
    "\n",
    "You can calculate the Mean Squared Error (MSE) for a polynomial regression without using external libraries by implementing the calculations manually. Here's how you can do it step by step:\n",
    "\n",
    "# Sample dataset (replace with your own data)\n",
    "X = np.array([1, 2, 3, 4, 5])\n",
    "y = np.array([2.1, 4.0, 7.2, 9.1, 10.8])\n",
    "\n",
    "# Specify the polynomial degree\n",
    "degree = 2  # You can change this to the desired degree\n",
    "\n",
    "# Create polynomial features\n",
    "X_poly = np.column_stack([X**i for i in range(degree + 1)])\n",
    "\n",
    "# Calculate the coefficients of the polynomial using linear regression\n",
    "coefficients = np.linalg.inv(X_poly.T @ X_poly) @ X_poly.T @ y\n",
    "\n",
    "# Make predictions\n",
    "y_pred = X_poly @ coefficients\n",
    "\n",
    "# Calculate the Mean Squared Error (MSE) manually\n",
    "mse = np.mean((y - y_pred) ** 2)\n",
    "\n",
    "print(f\"Mean Squared Error (MSE): {mse}\")\n",
    "\n",
    "\n",
    "In this code:\n",
    "\n",
    "We create the polynomial features by raising the input values to powers from 0 to the specified degree (degree).\n",
    "We calculate the coefficients of the polynomial using the normal equation of linear regression without an external library.\n",
    "We make predictions using the calculated coefficients.\n",
    "Finally, we manually calculate the MSE by taking the mean of the squared differences between the actual target values (y) and the predicted values (y_pred).\n",
    "This code performs the polynomial regression and computes the MSE without relying on external libraries for these calculations."
   ]
  }
 ],
 "metadata": {
  "kernelspec": {
   "display_name": "Python 3",
   "language": "python",
   "name": "python3"
  },
  "language_info": {
   "codemirror_mode": {
    "name": "ipython",
    "version": 3
   },
   "file_extension": ".py",
   "mimetype": "text/x-python",
   "name": "python",
   "nbconvert_exporter": "python",
   "pygments_lexer": "ipython3",
   "version": "3.8.9"
  },
  "orig_nbformat": 4
 },
 "nbformat": 4,
 "nbformat_minor": 2
}
