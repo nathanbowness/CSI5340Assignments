{
  "cells": [
    {
      "cell_type": "code",
      "execution_count": 1,
      "metadata": {
        "id": "tcIZtw7g18hp"
      },
      "outputs": [],
      "source": [
        "import torch\n",
        "import torch.nn as nn\n",
        "import torch.optim as optim\n",
        "import torchvision\n",
        "from torchvision import datasets, transforms\n",
        "import itertools\n",
        "import numpy as np\n",
        "import matplotlib.pyplot as plt\n",
        "import random\n",
        "\n",
        "device = torch.device(\"cuda:0\" if torch.cuda.is_available() else \"cpu\")\n",
        "device = \"cpu\""
      ]
    },
    {
      "cell_type": "code",
      "execution_count": 2,
      "metadata": {
        "colab": {
          "base_uri": "https://localhost:8080/"
        },
        "id": "L-cQKb0v08Wg",
        "outputId": "54ac378e-aed8-4520-c8f5-dab36a202386"
      },
      "outputs": [
        {
          "name": "stdout",
          "output_type": "stream",
          "text": [
            "Percent of Overparametrized Network\n",
            "W = 128: 0.7561904761904762\n",
            "W = 256: 0.30398162327718226\n",
            "W = 512: 0.10918591859185918\n",
            "W = 1024: 0.03492258972554539\n",
            "\n",
            "Width of Overparametrized Network (Twice as Deep)\n",
            "10%: 541\n",
            "20%: 343\n",
            "30%: 258\n",
            "40%: 209\n",
            "50%: 177\n"
          ]
        }
      ],
      "source": [
        "def calc_params(w,l):\n",
        "    num_params = 784*w\n",
        "    for i in range(l-2):\n",
        "        num_params += w*w\n",
        "    num_params += w*10\n",
        "    return num_params\n",
        "\n",
        "def get_width(percent):\n",
        "    num_params = calc_params(128,2)/percent\n",
        "    a = 2 #l?\n",
        "    width = (-794+np.sqrt(794**2+4*a*num_params))/(2*a)\n",
        "    return int(width)\n",
        "\n",
        "print(\"Percent of Overparametrized Network\")\n",
        "print(\"W = 128:\",calc_params(128,2)/calc_params(128,4))\n",
        "print(\"W = 256:\",calc_params(128,2)/calc_params(256,4))\n",
        "print(\"W = 512:\",calc_params(128,2)/calc_params(512,4))\n",
        "print(\"W = 1024:\",calc_params(128,2)/calc_params(1024,4))\n",
        "\n",
        "print(\"\\nWidth of Overparametrized Network (Twice as Deep)\")\n",
        "print(\"10%:\",get_width(0.1))\n",
        "print(\"20%:\",get_width(0.2))\n",
        "print(\"30%:\",get_width(0.3))\n",
        "print(\"40%:\",get_width(0.4))\n",
        "print(\"50%:\",get_width(0.5))"
      ]
    },
    {
      "cell_type": "code",
      "execution_count": 3,
      "metadata": {
        "colab": {
          "base_uri": "https://localhost:8080/"
        },
        "id": "sPdO2jZ23q6k",
        "outputId": "c60f7000-8dcf-4644-81c7-87771e4284c3"
      },
      "outputs": [
        {
          "data": {
            "text/plain": [
              "101632"
            ]
          },
          "execution_count": 3,
          "metadata": {},
          "output_type": "execute_result"
        }
      ],
      "source": [
        "calc_params(128,2)"
      ]
    },
    {
      "cell_type": "markdown",
      "metadata": {
        "id": "gdZ3qs10x2q5"
      },
      "source": [
        "MLP Model"
      ]
    },
    {
      "cell_type": "code",
      "execution_count": 4,
      "metadata": {
        "id": "6wZvYyCCxvs1"
      },
      "outputs": [],
      "source": [
        "class MLP(nn.Module):\n",
        "    def __init__(self, input_size, hidden_size, output_size, num_layers):\n",
        "        super(MLP, self).__init__()\n",
        "\n",
        "        # Check if number of layers is at least 1\n",
        "        if num_layers < 1:\n",
        "            raise ValueError(\"Number of layers must be at least 1\")\n",
        "\n",
        "        layers = []\n",
        "\n",
        "        # First layer\n",
        "        layers.append(nn.Linear(input_size, hidden_size, bias=False))\n",
        "\n",
        "        # Additional hidden layers\n",
        "        for _ in range(1, num_layers):\n",
        "            layers.append(nn.Linear(hidden_size, hidden_size, bias=False))\n",
        "\n",
        "        # Output layer\n",
        "        layers.append(nn.Linear(hidden_size, output_size, bias=False))\n",
        "\n",
        "        # ModuleList of layers\n",
        "        self.layers = nn.ModuleList(layers)\n",
        "\n",
        "    def forward(self, x):\n",
        "        x = x.view(-1, 28*28)  # Flatten the input\n",
        "\n",
        "        # Apply all layers except the last\n",
        "        for layer in self.layers[:-1]:\n",
        "            x = torch.relu(layer(x))\n",
        "\n",
        "        # Apply the last layer without ReLU\n",
        "        x = self.layers[-1](x)\n",
        "\n",
        "        return x"
      ]
    },
    {
      "cell_type": "markdown",
      "metadata": {
        "id": "5dUHHLOLYcun"
      },
      "source": [
        "Helper Functions"
      ]
    },
    {
      "cell_type": "code",
      "execution_count": 5,
      "metadata": {
        "id": "WOMFAEKM2JEg"
      },
      "outputs": [],
      "source": [
        "def evaluate(model, test_loader):\n",
        "    model.eval()\n",
        "    model.to(device)  # Move the model to the configured device\n",
        "    correct = 0\n",
        "    total = 0\n",
        "    loss = 0\n",
        "    with torch.no_grad():\n",
        "        for inputs, labels in test_loader:\n",
        "            inputs, labels = inputs.to(device), labels.to(device)\n",
        "            outputs = model(inputs)\n",
        "            batch_loss = torch.nn.CrossEntropyLoss()(outputs, labels)\n",
        "            loss += batch_loss.item()\n",
        "            _, predicted = torch.max(outputs, 1)\n",
        "            total += labels.size(0)\n",
        "            correct += (predicted == labels).sum().item()\n",
        "    test_accuracy = 100 * correct / total\n",
        "    test_loss = loss / total\n",
        "    return test_accuracy, test_loss\n",
        "\n",
        "def evaluate_masked_model_loss_and_accuracy(model, concatenated_mask, initial_weights, test_loader, criterion, num_batches=10):\n",
        "\n",
        "    # Split the concatenated mask back into individual masks\n",
        "    split_indices = np.cumsum([len(w.flatten()) for w in initial_weights[:-1]])\n",
        "    masks = np.split(concatenated_mask, split_indices)\n",
        "\n",
        "    # Reshape each mask to match the corresponding weight matrix\n",
        "    for j, w in enumerate(initial_weights):\n",
        "        masks[j] = masks[j].reshape(w.shape)\n",
        "\n",
        "    # Apply the mask to the initial weights\n",
        "    masked_weights = [w * m for w, m in zip(initial_weights, masks)]\n",
        "\n",
        "    # Set the masked weights to the model\n",
        "    with torch.no_grad():\n",
        "        for param, weight in zip(model.parameters(), masked_weights):\n",
        "            param.data = torch.tensor(weight).float()\n",
        "\n",
        "    # Evaluate the model's performance using a subset of the test data\n",
        "    accuracy, loss = evaluate(model, itertools.islice(test_loader, num_batches))\n",
        "\n",
        "    return accuracy, loss\n",
        "\n",
        "def sort_and_evaluate_masks(mask_pop, model, initial_weights, test_loader, criterion, num_batches, print_results=False):\n",
        "    performance = []\n",
        "\n",
        "    for i, mask in enumerate(mask_pop):\n",
        "        accuracy, avg_test_loss = evaluate_masked_model_loss_and_accuracy(model, mask, initial_weights, test_loader, criterion, num_batches)\n",
        "        performance.append((mask, accuracy, avg_test_loss))\n",
        "\n",
        "    # Sort by accuracy (descending)\n",
        "    #-x[2] -> sort by loss, x[1] -> accuracy\n",
        "    sorted_performance = sorted(performance, key=lambda x: x[1], reverse=True)\n",
        "\n",
        "    # Print sorted results\n",
        "    if print_results:\n",
        "        for i, (mask, accuracy, avg_test_loss) in enumerate(sorted_performance):\n",
        "            print(f\"Ranked {i+1}, Mask {i}: Test Accuracy = {accuracy:.2f}%, Test Loss = {avg_test_loss:.4f}\")\n",
        "\n",
        "    # Return sorted mask population\n",
        "    sorted_mask_pop = [mask for mask, _, _ in sorted_performance]\n",
        "    sorted_accuracies = [accuracy for _, accuracy, _ in sorted_performance]\n",
        "    #sorted_losses = [loss for _, _, loss in sorted_performance]\n",
        "    return sorted_mask_pop, sorted_accuracies#, sorted_losses\n",
        "\n",
        "def evaluate_mask_sizes(mask_pop):\n",
        "    total_weights = sum(w.size for w in mask_pop[0])\n",
        "    mask_sizes = []\n",
        "\n",
        "    for masks in mask_pop:\n",
        "        non_zero_weights = sum(np.count_nonzero(m) for m in masks)\n",
        "        mask_size_percentage = (non_zero_weights / total_weights) * 100\n",
        "        mask_sizes.append(mask_size_percentage)\n",
        "\n",
        "    return mask_sizes"
      ]
    },
    {
      "cell_type": "markdown",
      "metadata": {
        "id": "GG5bx4Ke5jnR"
      },
      "source": [
        "Evolution"
      ]
    },
    {
      "cell_type": "code",
      "execution_count": 6,
      "metadata": {
        "id": "BEuKT1yO7rWR"
      },
      "outputs": [],
      "source": [
        "def initialize_masks(weights,target_params,num_subnets=10):\n",
        "\n",
        "    # Flatten and concatenate all weight matrices\n",
        "    concatenated_weights = np.concatenate([w.flatten() for w in weights])\n",
        "\n",
        "    # Determine number of weights to zero out\n",
        "    num_zero_out = int(len(concatenated_weights)-target_params)\n",
        "    mask_pop = []\n",
        "\n",
        "    for i in range(num_subnets):\n",
        "\n",
        "        # Randomly choose indices to zero out\n",
        "        zero_indices = np.random.choice(len(concatenated_weights), num_zero_out, replace=False)\n",
        "\n",
        "        # Create a mask for concatenated weights\n",
        "        concatenated_mask = np.ones_like(concatenated_weights)\n",
        "        concatenated_mask[zero_indices] = 0\n",
        "\n",
        "        #add to population\n",
        "        mask_pop.append(concatenated_mask)\n",
        "\n",
        "    return mask_pop\n",
        "\n",
        "def mutate_mask(mask, m):\n",
        "\n",
        "    mutated_mask = mask.copy()\n",
        "\n",
        "    # Get the indices of ones and zeros\n",
        "    one_indices = np.where(mutated_mask == 1)[0]\n",
        "    zero_indices = np.where(mutated_mask == 0)[0]\n",
        "\n",
        "    # Randomly select m ones and zeros to switch\n",
        "    selected_ones = np.random.choice(one_indices, m, replace=False)\n",
        "    selected_zeros = np.random.choice(zero_indices, m, replace=False)\n",
        "\n",
        "    # Switch selected ones and zeros\n",
        "    mutated_mask[selected_ones] = 0\n",
        "    mutated_mask[selected_zeros] = 1\n",
        "\n",
        "    return mutated_mask\n",
        "\n",
        "def crossover_mask(mask1, mask2):\n",
        "\n",
        "    crossover_point = random.randint(1, len(mask1) - 1)\n",
        "\n",
        "    # Combine initial segments up to the crossover point\n",
        "    new_mask = np.concatenate([mask1[:crossover_point], mask2[crossover_point:]])\n",
        "\n",
        "    # Count zeros and ones in the new mask and the parents\n",
        "    num_zeros = np.sum(mask1 == 0)  # assuming mask1 and mask2 have the same number of zeros\n",
        "    current_zeros = np.sum(new_mask == 0)\n",
        "\n",
        "    # Balance zeros and ones if required\n",
        "    if current_zeros != num_zeros:\n",
        "        if current_zeros > num_zeros:\n",
        "            # Too many zeros, replace some with ones\n",
        "            zero_indices = np.where(new_mask[crossover_point:] == 0)[0] + crossover_point\n",
        "            ones_to_flip = zero_indices[:current_zeros - num_zeros]\n",
        "            new_mask[ones_to_flip] = 1\n",
        "        else:\n",
        "            # Too few zeros, replace some ones with zeros\n",
        "            one_indices = np.where(new_mask[crossover_point:] == 1)[0] + crossover_point\n",
        "            zeros_to_flip = one_indices[:(num_zeros - current_zeros)]\n",
        "            new_mask[zeros_to_flip] = 0\n",
        "\n",
        "    return new_mask\n",
        "\n",
        "def evolutionary_optimization(model, initial_weights, test_loader, criterion, num_batches, num_epochs=100, num_subnets=10, target_params=0, n=5, m=5, crossover_rate=0.5, print_accuraies = True):\n",
        "    mask_pop = initialize_masks(initial_weights, target_params, num_subnets=num_subnets)\n",
        "    top_accuracies = []\n",
        "\n",
        "    for epoch in range(num_epochs):\n",
        "        mask_pop, accuracies = sort_and_evaluate_masks(mask_pop, model, initial_weights, test_loader, criterion, num_batches)\n",
        "        top_mask_accuracy = accuracies[0]\n",
        "        top_accuracies.append(top_mask_accuracy)\n",
        "        if print_accuraies:\n",
        "            print(f\"Epoch {epoch + 1}/{num_epochs}: Highest Accuracy = {top_mask_accuracy:.2f}\")\n",
        "\n",
        "        #terminate + elitism\n",
        "        mask_pop = mask_pop[:n]\n",
        "\n",
        "        new_masks = []\n",
        "\n",
        "        for i in range(num_subnets-n):\n",
        "            parent1 = mask_pop[random.randint(0, n-1)]\n",
        "            parent2 = mask_pop[random.randint(0, n-1)]\n",
        "            if random.random() < crossover_rate:  # crossover_rate is a hyperparameter\n",
        "                new_mask = crossover_mask(parent1, parent2)\n",
        "            else:\n",
        "                new_mask = mutate_mask(parent1, m)  # or mutate_mask(parent2, m)\n",
        "            new_masks.append(new_mask)\n",
        "\n",
        "        mask_pop = mask_pop + new_masks\n",
        "\n",
        "        assert len(mask_pop) == num_subnets\n",
        "\n",
        "    #mask_sizes = evaluate_mask_sizes(mask_pop)\n",
        "    #print(mask_sizes)\n",
        "\n",
        "    return top_accuracies"
      ]
    },
    {
      "cell_type": "markdown",
      "metadata": {
        "id": "d11NSTAdZm1P"
      },
      "source": [
        "Data Loader"
      ]
    },
    {
      "cell_type": "code",
      "execution_count": 7,
      "metadata": {
        "colab": {
          "base_uri": "https://localhost:8080/"
        },
        "id": "cxOWeJs1ZJ1u",
        "outputId": "7a165e77-6787-4b16-9a34-6d04400597fc"
      },
      "outputs": [],
      "source": [
        "train_dataset = datasets.MNIST(root='./data', train=True, transform=transforms.ToTensor(), download=True)\n",
        "train_loader = torch.utils.data.DataLoader(train_dataset, batch_size=64, shuffle=True)\n",
        "test_dataset = datasets.MNIST(root='./data', train=False, transform=transforms.ToTensor(), download=True)\n",
        "test_loader = torch.utils.data.DataLoader(test_dataset, batch_size=64, shuffle=False)"
      ]
    },
    {
      "cell_type": "markdown",
      "metadata": {
        "id": "paGkz5a_jZN6"
      },
      "source": [
        "Learning Curve"
      ]
    },
    {
      "cell_type": "code",
      "execution_count": 9,
      "metadata": {},
      "outputs": [],
      "source": [
        "import time\n",
        "\n",
        "num_batches = 1\n",
        "num_epochs = 1000\n",
        "num_subnets = 10\n",
        "\n",
        "def perform_evaluation(width):\n",
        "    # Initialize parameters\n",
        "    target_params = calc_params(128, 2)\n",
        "    criterion = nn.CrossEntropyLoss()\n",
        "    num_batches = 1\n",
        "    num_epochs = 1000\n",
        "    num_subnets = 10\n",
        "    n = 2  # number to keep\n",
        "    m = 1000  # number of mutations to mask\n",
        "    crossover_rate = 0\n",
        "    num_iter = 10\n",
        "\n",
        "    # Initialize a list to store the accuracies from all iterations for this width\n",
        "    all_accuracies = []\n",
        "\n",
        "    # Print model parameters\n",
        "    print(\"Width =\", width, \"--\", calc_params(width, 4), \"params --\", target_params / calc_params(width, 4), \"% mask\")\n",
        "\n",
        "    for i in range(num_iter):\n",
        "\n",
        "        # Initialize Model\n",
        "        model = MLP(28 * 28, width, 10, 3).to(device)\n",
        "\n",
        "        # Save a copy of the initial weights to list of numpy arrays\n",
        "        initial_weights = [layer.weight.detach().cpu().clone().numpy() for layer in model.layers]\n",
        "\n",
        "        # Start timing\n",
        "        start_time = time.time()\n",
        "\n",
        "        # Perform the evolutionary optimization\n",
        "        evolutionary_accuracies = evolutionary_optimization(model, initial_weights, test_loader, criterion, num_batches, num_epochs, num_subnets, target_params, n, m, crossover_rate, print_accuraies=False)\n",
        "\n",
        "        # End timing\n",
        "        end_time = time.time()\n",
        "        print(f\"Width {width}, Iteration {i+1}: {end_time - start_time:.2f} seconds\")\n",
        "\n",
        "        # Store the accuracies\n",
        "        all_accuracies.append(evolutionary_accuracies)\n",
        "    return all_accuracies\n",
        "    "
      ]
    },
    {
      "cell_type": "code",
      "execution_count": 1,
      "metadata": {
        "colab": {
          "background_save": true,
          "base_uri": "https://localhost:8080/"
        },
        "id": "niFbCElwzG1p",
        "outputId": "8a102fab-e973-4a1c-f6b1-c03dbadbd19a"
      },
      "outputs": [
        {
          "ename": "NameError",
          "evalue": "name 'perform_evaluation' is not defined",
          "output_type": "error",
          "traceback": [
            "\u001b[1;31m---------------------------------------------------------------------------\u001b[0m",
            "\u001b[1;31mNameError\u001b[0m                                 Traceback (most recent call last)",
            "\u001b[1;32mc:\\Users\\Nathan\\Desktop\\Masters\\DL and RL\\CSI5340Assignments\\Project\\sped_up_project_file.ipynb Cell 14\u001b[0m line \u001b[0;36m1\n\u001b[0;32m      <a href='vscode-notebook-cell:/c%3A/Users/Nathan/Desktop/Masters/DL%20and%20RL/CSI5340Assignments/Project/sped_up_project_file.ipynb#X15sZmlsZQ%3D%3D?line=8'>9</a>\u001b[0m \u001b[39m# Use ThreadPoolExecutor to parallelize the loop\u001b[39;00m\n\u001b[0;32m     <a href='vscode-notebook-cell:/c%3A/Users/Nathan/Desktop/Masters/DL%20and%20RL/CSI5340Assignments/Project/sped_up_project_file.ipynb#X15sZmlsZQ%3D%3D?line=9'>10</a>\u001b[0m \u001b[39mwith\u001b[39;00m concurrent\u001b[39m.\u001b[39mfutures\u001b[39m.\u001b[39mThreadPoolExecutor() \u001b[39mas\u001b[39;00m executor:\n\u001b[0;32m     <a href='vscode-notebook-cell:/c%3A/Users/Nathan/Desktop/Masters/DL%20and%20RL/CSI5340Assignments/Project/sped_up_project_file.ipynb#X15sZmlsZQ%3D%3D?line=10'>11</a>\u001b[0m     \u001b[39m# Map the function over the list of widths, running each in a separate thread\u001b[39;00m\n\u001b[1;32m---> <a href='vscode-notebook-cell:/c%3A/Users/Nathan/Desktop/Masters/DL%20and%20RL/CSI5340Assignments/Project/sped_up_project_file.ipynb#X15sZmlsZQ%3D%3D?line=11'>12</a>\u001b[0m     results \u001b[39m=\u001b[39m \u001b[39mlist\u001b[39m(executor\u001b[39m.\u001b[39mmap(perform_evaluation, widths))\n\u001b[0;32m     <a href='vscode-notebook-cell:/c%3A/Users/Nathan/Desktop/Masters/DL%20and%20RL/CSI5340Assignments/Project/sped_up_project_file.ipynb#X15sZmlsZQ%3D%3D?line=13'>14</a>\u001b[0m \u001b[39m# Store the results in the dictionary\u001b[39;00m\n\u001b[0;32m     <a href='vscode-notebook-cell:/c%3A/Users/Nathan/Desktop/Masters/DL%20and%20RL/CSI5340Assignments/Project/sped_up_project_file.ipynb#X15sZmlsZQ%3D%3D?line=14'>15</a>\u001b[0m \u001b[39mfor\u001b[39;00m width, accuracies \u001b[39min\u001b[39;00m \u001b[39mzip\u001b[39m(widths, results):\n",
            "\u001b[1;31mNameError\u001b[0m: name 'perform_evaluation' is not defined"
          ]
        }
      ],
      "source": [
        "import concurrent.futures\n",
        "\n",
        "# List of widths to iterate over\n",
        "widths = [128, 256]\n",
        "\n",
        "# Initialize a dictionary to store the accuracies for each width\n",
        "all_accuracies_dict = {}\n",
        "\n",
        "# Use ThreadPoolExecutor to parallelize the loop\n",
        "with concurrent.futures.ThreadPoolExecutor() as executor:\n",
        "    # Map the function over the list of widths, running each in a separate thread\n",
        "    results = list(executor.map(perform_evaluation, widths))\n",
        "\n",
        "# Store the results in the dictionary\n",
        "for width, accuracies in zip(widths, results):\n",
        "    all_accuracies_dict[width] = np.array(accuracies)\n",
        "\n",
        "widths2 = [512, 1028]\n",
        "\n",
        "# Use ThreadPoolExecutor to parallelize the loop\n",
        "with concurrent.futures.ThreadPoolExecutor() as executor:\n",
        "    # Map the function over the list of widths, running each in a separate thread\n",
        "    results = list(executor.map(perform_evaluation, widths2))\n",
        "\n",
        "# Store the results in the dictionary\n",
        "for width, accuracies in zip(widths2, results):\n",
        "    all_accuracies_dict[width] = np.array(accuracies)\n",
        "\n",
        "# Plotting\n",
        "plt.figure(figsize=(10, 6))\n",
        "epochs = range(1, num_epochs + 1)\n",
        "\n",
        "for width, all_accuracies in all_accuracies_dict.items():\n",
        "    # Calculate the average and standard deviation across iterations for each epoch\n",
        "    avg_accuracies = np.mean(all_accuracies, axis=0)\n",
        "    std_dev_accuracies = np.std(all_accuracies, axis=0)\n",
        "\n",
        "    # Plot for each width\n",
        "    plt.plot(epochs, avg_accuracies, label=f'Width {width} Average Accuracy')\n",
        "    plt.fill_between(epochs, avg_accuracies - std_dev_accuracies, avg_accuracies + std_dev_accuracies, alpha=0.2)\n",
        "\n",
        "plt.xlabel('Epochs')\n",
        "plt.ylabel('Average Evolutionary Accuracy')\n",
        "plt.title('Average Evolutionary Accuracies vs Epochs with Standard Deviation for Different Widths')\n",
        "plt.legend()\n",
        "plt.grid(True)\n",
        "plt.show()\n"
      ]
    },
    {
      "cell_type": "code",
      "execution_count": null,
      "metadata": {
        "colab": {
          "base_uri": "https://localhost:8080/",
          "height": 650
        },
        "id": "Ai86xyNR1eRg",
        "outputId": "697735d9-ab25-4428-dc86-09c360c4e19b"
      },
      "outputs": [
        {
          "data": {
            "image/png": "[encoded data removed]",
            "text/plain": [
              "<Figure size 1000x600 with 1 Axes>"
            ]
          },
          "metadata": {},
          "output_type": "display_data"
        },
        {
          "name": "stdout",
          "output_type": "stream",
          "text": [
            "Final Accuracies\n",
            "Width 128: 45.78 +- 6.25\n",
            "Width 256: 49.22 +- 7.07\n",
            "Width 512: 50.94 +- 8.62\n",
            "Width 1028: 48.28 +- 10.47\n"
          ]
        }
      ],
      "source": [
        "# Plotting\n",
        "plt.figure(figsize=(10, 6))\n",
        "epochs = range(1, num_epochs + 1)\n",
        "\n",
        "for width, all_accuracies in all_accuracies_dict.items():\n",
        "    # Calculate the average and standard deviation across iterations for each epoch\n",
        "    avg_accuracies = np.mean(all_accuracies, axis=0)\n",
        "    std_dev_accuracies = np.std(all_accuracies, axis=0)\n",
        "\n",
        "    # Plot for each width\n",
        "    plt.plot(epochs, avg_accuracies, label=f'Width {width} Average Accuracy')\n",
        "    plt.fill_between(epochs, avg_accuracies - std_dev_accuracies, avg_accuracies + std_dev_accuracies, alpha=0.2)\n",
        "\n",
        "plt.xlabel('Epochs')\n",
        "plt.ylabel('Average Evolutionary Accuracy')\n",
        "plt.title('Average Evolutionary Accuracies vs Epochs with Standard Deviation for Different Widths')\n",
        "plt.legend()\n",
        "plt.grid(True)\n",
        "plt.show()\n",
        "\n",
        "print(\"Final Accuracies\")\n",
        "for width, all_accuracies in all_accuracies_dict.items():\n",
        "    # Calculate the average and standard deviation across iterations for each epoch\n",
        "    avg_accuracies = np.mean(all_accuracies, axis=0)\n",
        "    std_dev_accuracies = np.std(all_accuracies, axis=0)\n",
        "    print(f\"Width {width}: {avg_accuracies[-1]:.2f} +- {std_dev_accuracies[-1]:.2f}\")"
      ]
    }
  ],
  "metadata": {
    "colab": {
      "machine_shape": "hm",
      "provenance": []
    },
    "kernelspec": {
      "display_name": "Python 3",
      "name": "python3"
    },
    "language_info": {
      "codemirror_mode": {
        "name": "ipython",
        "version": 3
      },
      "file_extension": ".py",
      "mimetype": "text/x-python",
      "name": "python",
      "nbconvert_exporter": "python",
      "pygments_lexer": "ipython3",
      "version": "3.11.6"
    }
  },
  "nbformat": 4,
  "nbformat_minor": 0
}
